{
  "nbformat": 4,
  "nbformat_minor": 0,
  "metadata": {
    "colab": {
      "name": "Untitled13.ipynb",
      "provenance": [],
      "authorship_tag": "ABX9TyOg4FKWCOL7jDCcSEuZVq0a",
      "include_colab_link": true
    },
    "kernelspec": {
      "name": "python3",
      "display_name": "Python 3"
    },
    "language_info": {
      "name": "python"
    }
  },
  "cells": [
    {
      "cell_type": "markdown",
      "metadata": {
        "id": "view-in-github",
        "colab_type": "text"
      },
      "source": [
        "<a href=\"https://colab.research.google.com/github/Enneigardik/Ex/blob/main/%D0%94%D0%BE%D0%BF%D0%BE%D0%BB%D0%BD%D0%B8%D1%82%D0%B5%D0%BB%D1%8C%D0%BD%D1%8B%D0%B5%20%D0%BF%D0%BE%20%D0%9A%D0%90.ipynb\" target=\"_parent\"><img src=\"https://colab.research.google.com/assets/colab-badge.svg\" alt=\"Open In Colab\"/></a>"
      ]
    },
    {
      "cell_type": "code",
      "metadata": {
        "id": "f4lPTGvl-ls_"
      },
      "source": [
        "from sympy import *\n",
        "from sympy.plotting import *\n",
        "from IPython.display import display\n",
        "from sympy.utilities.lambdify import lambdify"
      ],
      "execution_count": 1,
      "outputs": []
    },
    {
      "cell_type": "code",
      "metadata": {
        "id": "C1bmplG6-urj"
      },
      "source": [
        "t = symbols(\"t\")\n",
        "x = Function(\"x\")\n",
        "y = Function(\"y\")\n",
        "z = Function(\"z\")"
      ],
      "execution_count": 2,
      "outputs": []
    },
    {
      "cell_type": "code",
      "metadata": {
        "colab": {
          "base_uri": "https://localhost:8080/",
          "height": 52
        },
        "id": "sb2paMUd-0Z8",
        "outputId": "4c49ae13-2bbf-458f-9755-7790b2cffe58"
      },
      "source": [
        "de1=Eq(diff(x(t), t), -0.5*x(t))\n",
        "de1"
      ],
      "execution_count": 3,
      "outputs": [
        {
          "output_type": "execute_result",
          "data": {
            "text/latex": "$\\displaystyle \\frac{d}{d t} x{\\left(t \\right)} = - 0.5 x{\\left(t \\right)}$",
            "text/plain": [
              "Eq(Derivative(x(t), t), -0.5*x(t))"
            ]
          },
          "metadata": {
            "tags": []
          },
          "execution_count": 3
        }
      ]
    },
    {
      "cell_type": "code",
      "metadata": {
        "colab": {
          "base_uri": "https://localhost:8080/",
          "height": 52
        },
        "id": "mdEOubkj_aVj",
        "outputId": "3133926e-027d-40ac-d92c-031e9ebead2b"
      },
      "source": [
        "de2=Eq(diff(y(t), t), -0.5*y(t))\n",
        "de2"
      ],
      "execution_count": 4,
      "outputs": [
        {
          "output_type": "execute_result",
          "data": {
            "text/latex": "$\\displaystyle \\frac{d}{d t} y{\\left(t \\right)} = - 0.5 y{\\left(t \\right)}$",
            "text/plain": [
              "Eq(Derivative(y(t), t), -0.5*y(t))"
            ]
          },
          "metadata": {
            "tags": []
          },
          "execution_count": 4
        }
      ]
    },
    {
      "cell_type": "code",
      "metadata": {
        "colab": {
          "base_uri": "https://localhost:8080/",
          "height": 52
        },
        "id": "d6yNcSdC_jL4",
        "outputId": "bc33125c-a27b-4af4-96c3-258bbcc6a5b1"
      },
      "source": [
        "de3=Eq(diff(z(t), t), 0.5*x(t)+0.5*y(t)-0.25*z(t))\n",
        "de3"
      ],
      "execution_count": 5,
      "outputs": [
        {
          "output_type": "execute_result",
          "data": {
            "text/latex": "$\\displaystyle \\frac{d}{d t} z{\\left(t \\right)} = 0.5 x{\\left(t \\right)} + 0.5 y{\\left(t \\right)} - 0.25 z{\\left(t \\right)}$",
            "text/plain": [
              "Eq(Derivative(z(t), t), 0.5*x(t) + 0.5*y(t) - 0.25*z(t))"
            ]
          },
          "metadata": {
            "tags": []
          },
          "execution_count": 5
        }
      ]
    },
    {
      "cell_type": "code",
      "metadata": {
        "colab": {
          "base_uri": "https://localhost:8080/"
        },
        "id": "rTBzHVmn_yvx",
        "outputId": "fbc605f1-3c9c-47ed-ada2-d66fef7b384c"
      },
      "source": [
        "res = dsolve([de1, de2, de3], ics={x(0): 1, y(0): 2, z(0): 0})\n",
        "res"
      ],
      "execution_count": 6,
      "outputs": [
        {
          "output_type": "execute_result",
          "data": {
            "text/plain": [
              "[Eq(x(t), 1.0*exp(-0.5*t)),\n",
              " Eq(y(t), 2.0*exp(-0.5*t)),\n",
              " Eq(z(t), -6.0*exp(-0.5*t) + 6.0*exp(-0.25*t))]"
            ]
          },
          "metadata": {
            "tags": []
          },
          "execution_count": 6
        }
      ]
    },
    {
      "cell_type": "code",
      "metadata": {
        "colab": {
          "base_uri": "https://localhost:8080/",
          "height": 313
        },
        "id": "hzEYXurk_9q4",
        "outputId": "7ac03fea-5e4f-4f6a-f160-f597a981e40a"
      },
      "source": [
        "p1 = plot(res[0].rhs, (t, 0, 30), line_color='red', show=False)\n",
        "p2 = plot(res[1].rhs, (t, 0, 30), show=False)\n",
        "p3 = plot(res[2].rhs, (t, 0, 30), line_color='green', show=False)\n",
        "p1.append(p2[0])\n",
        "p1.append(p3[0])\n",
        "p1.show()\n",
        "\n",
        "solve(Eq(-6.0*exp(-0.5*t) + 6.0*exp(-0.25*t), 1.7)) "
      ],
      "execution_count": 7,
      "outputs": [
        {
          "output_type": "display_data",
          "data": {
            "image/png": "[encoded data removed]",
            "text/plain": [
              "<Figure size 432x288 with 1 Axes>"
            ]
          },
          "metadata": {
            "tags": [],
            "needs_background": "light"
          }
        },
        {
          "output_type": "execute_result",
          "data": {
            "text/plain": [
              "[2.52226243633177 - 1.40042311106858*I, 2.52226243633177 + 1.40042311106858*I]"
            ]
          },
          "metadata": {
            "tags": []
          },
          "execution_count": 7
        }
      ]
    }
  ]
}
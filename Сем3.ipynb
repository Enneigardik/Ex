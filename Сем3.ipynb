{
  "nbformat": 4,
  "nbformat_minor": 0,
  "metadata": {
    "colab": {
      "name": "Untitled4.ipynb",
      "provenance": [],
      "authorship_tag": "ABX9TyOIJslzRgWOijSCMepdJ2nD",
      "include_colab_link": true
    },
    "kernelspec": {
      "name": "python3",
      "display_name": "Python 3"
    }
  },
  "cells": [
    {
      "cell_type": "markdown",
      "metadata": {
        "id": "view-in-github",
        "colab_type": "text"
      },
      "source": [
        "<a href=\"https://colab.research.google.com/github/Enneigardik/Ex/blob/main/%D0%A1%D0%B5%D0%BC3.ipynb\" target=\"_parent\"><img src=\"https://colab.research.google.com/assets/colab-badge.svg\" alt=\"Open In Colab\"/></a>"
      ]
    },
    {
      "cell_type": "code",
      "metadata": {
        "id": "fuOhi4PaPTn2"
      },
      "source": [
        "x = 'x'\r\n",
        "y = 'y'\r\n",
        "def check(x):\r\n",
        "  if isinstance(x, Expression):\r\n",
        "    return x\r\n",
        "  return Expression(x)\r\n",
        "\r\n",
        "class Expression:\r\n",
        "  def __init__(self, f):\r\n",
        "    self.f = f\r\n",
        "  def __add__(self, x):\r\n",
        "    x = check(x)\r\n",
        "    return Expression(add(self.f, x.f))\r\n",
        "  def __mul__(self, x):\r\n",
        "    x = check(x)\r\n",
        "    return Expression(mul(self.f, x.f))\r\n",
        "  def __radd__(self, x):\r\n",
        "    x = check(x)\r\n",
        "    return Expression(add(x.f, self.f))\r\n",
        "  def __rmul__(self, x):\r\n",
        "    x = check(x)\r\n",
        "    return Expression(mul(x.f, self.f))\r\n",
        "  def subs(self, var, val):\r\n",
        "    return Expression(substitute(self.f, var, val))\r\n",
        "  def evalf(self):\r\n",
        "    return evaluate(self.f)\r\n",
        "  def fsqrt(x):\r\n",
        "    return ['sqrt', x]\r\n",
        "  def sqrt(x):\r\n",
        "    x = check(x)\r\n",
        "    t = x.f\r\n",
        "    r = fsqrt(t)\r\n",
        "    return Expression(r)\r\n",
        "\r\n",
        "  def sin(x):\r\n",
        "    return Expression(fsin(check(x).f))\r\n",
        "\r\n",
        "  def cos(x):\r\n",
        "    return Expression(fcos(check(x).f))\r\n"
      ],
      "execution_count": 18,
      "outputs": []
    },
    {
      "cell_type": "code",
      "metadata": {
        "colab": {
          "base_uri": "https://localhost:8080/"
        },
        "id": "WJmdl5qLPVj0",
        "outputId": "7ccef05d-e8a2-4d14-91f3-438569df1ad3"
      },
      "source": [
        "x = Expression('x')\r\n",
        "y = Expression('y')\r\n",
        "\r\n",
        "print(x.f+y.f)\r\n",
        "(x + 1).f"
      ],
      "execution_count": 15,
      "outputs": [
        {
          "output_type": "stream",
          "text": [
            "xy\n"
          ],
          "name": "stdout"
        },
        {
          "output_type": "execute_result",
          "data": {
            "text/plain": [
              "['+', 'x', 1]"
            ]
          },
          "metadata": {
            "tags": []
          },
          "execution_count": 15
        }
      ]
    },
    {
      "cell_type": "code",
      "metadata": {
        "colab": {
          "base_uri": "https://localhost:8080/"
        },
        "id": "kvW4sRyfRlRG",
        "outputId": "5516525c-7f42-4cf1-962f-de59d297b9b5"
      },
      "source": [
        "def fsin(x):\r\n",
        "  return ['sin', x]\r\n",
        "def add(x, y):\r\n",
        "  return ['+', x, y]\r\n",
        "\r\n",
        "def mul(x, y):\r\n",
        "  return ['*', x, y]\r\n",
        "\r\n",
        "z = add(x, mul(2, fsin(y)))\r\n",
        "z"
      ],
      "execution_count": 14,
      "outputs": [
        {
          "output_type": "execute_result",
          "data": {
            "text/plain": [
              "['+',\n",
              " <__main__.Expression at 0x7fcc5a7f8350>,\n",
              " ['*', 2, ['sin', <__main__.Expression at 0x7fcc5a702ed0>]]]"
            ]
          },
          "metadata": {
            "tags": []
          },
          "execution_count": 14
        }
      ]
    }
  ]
}
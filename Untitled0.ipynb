{
  "nbformat": 4,
  "nbformat_minor": 0,
  "metadata": {
    "colab": {
      "name": "Untitled0.ipynb",
      "provenance": [],
      "authorship_tag": "ABX9TyOzs4XGKFHtSODPXZfXkYU4",
      "include_colab_link": true
    },
    "kernelspec": {
      "name": "python3",
      "display_name": "Python 3"
    }
  },
  "cells": [
    {
      "cell_type": "markdown",
      "metadata": {
        "id": "view-in-github",
        "colab_type": "text"
      },
      "source": [
        "<a href=\"https://colab.research.google.com/github/Enneigardik/Ex/blob/main/Untitled0.ipynb\" target=\"_parent\"><img src=\"https://colab.research.google.com/assets/colab-badge.svg\" alt=\"Open In Colab\"/></a>"
      ]
    },
    {
      "cell_type": "code",
      "metadata": {
        "id": "pTnn2aAU9Oe2"
      },
      "source": [
        "class Rational:\r\n",
        "  def __init__ (self, z, n=1):\r\n",
        "    self.z = z\r\n",
        "    self.n = n\r\n",
        "    self.normalize()\r\n",
        "\r\n",
        "  def __str__(self): \r\n",
        "    return str(self.z)+\"/\"+str(self.n)\r\n",
        "\r\n",
        "  def normalize(self):\r\n",
        "    z, n = abs(self.z), self.n\r\n",
        "    if n<0:\r\n",
        "      self.n*=-1\r\n",
        "      self.z*=-1\r\n",
        "    while z%n!=0:\r\n",
        "      z, n, = n,z%n\r\n",
        "    self.z//= n\r\n",
        "    self.n//= n\r\n",
        "    "
      ],
      "execution_count": 86,
      "outputs": []
    },
    {
      "cell_type": "code",
      "metadata": {
        "colab": {
          "base_uri": "https://localhost:8080/"
        },
        "id": "4QRthtUYH2Cg",
        "outputId": "fd2a149f-68aa-4a52-9a64-87c6dee4df70"
      },
      "source": [
        "a = Rational(20,-40)\r\n",
        "p = Rational(10,20)\r\n",
        "print (a)\r\n"
      ],
      "execution_count": 87,
      "outputs": [
        {
          "output_type": "stream",
          "text": [
            "1/-2\n"
          ],
          "name": "stdout"
        }
      ]
    }
  ]
}
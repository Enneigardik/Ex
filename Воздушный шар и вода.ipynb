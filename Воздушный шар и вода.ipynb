{
  "nbformat": 4,
  "nbformat_minor": 0,
  "metadata": {
    "colab": {
      "name": "Копия блокнота \"Untitled13.ipynb\"",
      "provenance": [],
      "collapsed_sections": [],
      "include_colab_link": true
    },
    "kernelspec": {
      "name": "python3",
      "display_name": "Python 3"
    },
    "language_info": {
      "name": "python"
    }
  },
  "cells": [
    {
      "cell_type": "markdown",
      "metadata": {
        "id": "view-in-github",
        "colab_type": "text"
      },
      "source": [
        "<a href=\"https://colab.research.google.com/github/Enneigardik/Ex/blob/main/%D0%92%D0%BE%D0%B7%D0%B4%D1%83%D1%88%D0%BD%D1%8B%D0%B9%20%D1%88%D0%B0%D1%80%20%D0%B8%20%D0%B2%D0%BE%D0%B4%D0%B0.ipynb\" target=\"_parent\"><img src=\"https://colab.research.google.com/assets/colab-badge.svg\" alt=\"Open In Colab\"/></a>"
      ]
    },
    {
      "cell_type": "code",
      "metadata": {
        "id": "f4lPTGvl-ls_"
      },
      "source": [
        "from sympy import *\n",
        "from sympy.plotting import *\n",
        "from IPython.display import display\n",
        "from sympy.utilities.lambdify import lambdify"
      ],
      "execution_count": 6,
      "outputs": []
    },
    {
      "cell_type": "code",
      "metadata": {
        "id": "C1bmplG6-urj"
      },
      "source": [
        "t = symbols(\"t\")\n",
        "x = Function(\"x\")\n",
        "y = Function(\"y\")\n",
        "z = Function(\"z\")"
      ],
      "execution_count": 7,
      "outputs": []
    },
    {
      "cell_type": "code",
      "metadata": {
        "colab": {
          "base_uri": "https://localhost:8080/",
          "height": 52
        },
        "id": "sb2paMUd-0Z8",
        "outputId": "25de8a15-b740-4a51-ca2d-51d9ab0942bb"
      },
      "source": [
        "de1=Eq(diff(x(t), t), -0.5*x(t))\n",
        "de1"
      ],
      "execution_count": 8,
      "outputs": [
        {
          "output_type": "execute_result",
          "data": {
            "text/latex": "$\\displaystyle \\frac{d}{d t} x{\\left(t \\right)} = - 0.5 x{\\left(t \\right)}$",
            "text/plain": [
              "Eq(Derivative(x(t), t), -0.5*x(t))"
            ]
          },
          "metadata": {
            "tags": []
          },
          "execution_count": 8
        }
      ]
    },
    {
      "cell_type": "code",
      "metadata": {
        "colab": {
          "base_uri": "https://localhost:8080/",
          "height": 52
        },
        "id": "mdEOubkj_aVj",
        "outputId": "38076997-0352-4be7-c751-6fbc91f603ed"
      },
      "source": [
        "de2=Eq(diff(y(t), t), -0.5*y(t))\n",
        "de2"
      ],
      "execution_count": 9,
      "outputs": [
        {
          "output_type": "execute_result",
          "data": {
            "text/latex": "$\\displaystyle \\frac{d}{d t} y{\\left(t \\right)} = - 0.5 y{\\left(t \\right)}$",
            "text/plain": [
              "Eq(Derivative(y(t), t), -0.5*y(t))"
            ]
          },
          "metadata": {
            "tags": []
          },
          "execution_count": 9
        }
      ]
    },
    {
      "cell_type": "code",
      "metadata": {
        "colab": {
          "base_uri": "https://localhost:8080/",
          "height": 52
        },
        "id": "d6yNcSdC_jL4",
        "outputId": "f4214620-630c-4d6f-d492-53cbb7cb820b"
      },
      "source": [
        "de3=Eq(diff(z(t), t), 0.5*x(t)+0.5*y(t)-0.25*z(t))\n",
        "de3"
      ],
      "execution_count": 10,
      "outputs": [
        {
          "output_type": "execute_result",
          "data": {
            "text/latex": "$\\displaystyle \\frac{d}{d t} z{\\left(t \\right)} = 0.5 x{\\left(t \\right)} + 0.5 y{\\left(t \\right)} - 0.25 z{\\left(t \\right)}$",
            "text/plain": [
              "Eq(Derivative(z(t), t), 0.5*x(t) + 0.5*y(t) - 0.25*z(t))"
            ]
          },
          "metadata": {
            "tags": []
          },
          "execution_count": 10
        }
      ]
    },
    {
      "cell_type": "code",
      "metadata": {
        "colab": {
          "base_uri": "https://localhost:8080/"
        },
        "id": "rTBzHVmn_yvx",
        "outputId": "fdb4501e-9ccb-4716-d612-60b1b7148279"
      },
      "source": [
        "res = dsolve([de1, de2, de3], ics={x(0): 1, y(0): 2, z(0): 0})\n",
        "res"
      ],
      "execution_count": 11,
      "outputs": [
        {
          "output_type": "execute_result",
          "data": {
            "text/plain": [
              "[Eq(x(t), 1.0*exp(-0.5*t)),\n",
              " Eq(y(t), 2.0*exp(-0.5*t)),\n",
              " Eq(z(t), -6.0*exp(-0.5*t) + 6.0*exp(-0.25*t))]"
            ]
          },
          "metadata": {
            "tags": []
          },
          "execution_count": 11
        }
      ]
    },
    {
      "cell_type": "code",
      "metadata": {
        "colab": {
          "base_uri": "https://localhost:8080/",
          "height": 313
        },
        "id": "hzEYXurk_9q4",
        "outputId": "5feddc21-4ce1-465f-b5d0-a398a3de1504"
      },
      "source": [
        "p1 = plot(res[0].rhs, (t, 0, 30), line_color='red', show=False)\n",
        "p2 = plot(res[1].rhs, (t, 0, 30), show=False)\n",
        "p3 = plot(res[2].rhs, (t, 0, 30), line_color='green', show=False)\n",
        "p1.append(p2[0])\n",
        "p1.append(p3[0])\n",
        "p1.show()\n",
        "\n",
        "solve(Eq(-6.0*exp(-0.5*t) + 6.0*exp(-0.25*t), 1.7)) "
      ],
      "execution_count": 12,
      "outputs": [
        {
          "output_type": "display_data",
          "data": {
            "image/png": "[encoded data removed]",
            "text/plain": [
              "<Figure size 432x288 with 1 Axes>"
            ]
          },
          "metadata": {
            "tags": [],
            "needs_background": "light"
          }
        },
        {
          "output_type": "execute_result",
          "data": {
            "text/plain": [
              "[2.52226243633177 - 1.40042311106858*I, 2.52226243633177 + 1.40042311106858*I]"
            ]
          },
          "metadata": {
            "tags": []
          },
          "execution_count": 12
        }
      ]
    },
    {
      "cell_type": "code",
      "metadata": {
        "id": "tNvouzDD8mZh"
      },
      "source": [
        "P = 360\n",
        "m = 7200\n",
        "g = 9.8\n",
        "k=0.01"
      ],
      "execution_count": 13,
      "outputs": []
    },
    {
      "cell_type": "code",
      "metadata": {
        "id": "2ZJPiSJE8rnF"
      },
      "source": [
        "h = Function(\"h\")\n",
        "V = Function(\"V\")"
      ],
      "execution_count": 14,
      "outputs": []
    },
    {
      "cell_type": "code",
      "metadata": {
        "id": "VCf3ufjG8uJl",
        "colab": {
          "base_uri": "https://localhost:8080/",
          "height": 52
        },
        "outputId": "f7985419-85b3-402d-c658-40eeb8f22bd0"
      },
      "source": [
        "de1 = Eq(diff(V(t), t), P - g - k * V(t) )\n",
        "de1"
      ],
      "execution_count": 15,
      "outputs": [
        {
          "output_type": "execute_result",
          "data": {
            "text/latex": "$\\displaystyle \\frac{d}{d t} V{\\left(t \\right)} = 350.2 - 0.01 V{\\left(t \\right)}$",
            "text/plain": [
              "Eq(Derivative(V(t), t), 350.2 - 0.01*V(t))"
            ]
          },
          "metadata": {
            "tags": []
          },
          "execution_count": 15
        }
      ]
    },
    {
      "cell_type": "code",
      "metadata": {
        "colab": {
          "base_uri": "https://localhost:8080/",
          "height": 52
        },
        "id": "LsJ_9ExAEYmc",
        "outputId": "d3ed82a5-26c6-4461-fd89-a185bb0573da"
      },
      "source": [
        "de2 = Eq(diff(h(t), t), 1.0*exp(-0.01*t))\n",
        "de2"
      ],
      "execution_count": 16,
      "outputs": [
        {
          "output_type": "execute_result",
          "data": {
            "text/latex": "$\\displaystyle \\frac{d}{d t} h{\\left(t \\right)} = 1.0 e^{- 0.01 t}$",
            "text/plain": [
              "Eq(Derivative(h(t), t), 1.0*exp(-0.01*t))"
            ]
          },
          "metadata": {
            "tags": []
          },
          "execution_count": 16
        }
      ]
    },
    {
      "cell_type": "code",
      "metadata": {
        "id": "jd2QnM3K8xGC",
        "colab": {
          "base_uri": "https://localhost:8080/"
        },
        "outputId": "23b0f6e1-15cf-43f8-d086-ec9432de765b"
      },
      "source": [
        "res = dsolve([de1],ics={V(0): 1})\n",
        "res"
      ],
      "execution_count": 17,
      "outputs": [
        {
          "output_type": "execute_result",
          "data": {
            "text/plain": [
              "[Eq(V(t), 35020.0 - 35019.0*exp(-0.01*t))]"
            ]
          },
          "metadata": {
            "tags": []
          },
          "execution_count": 17
        }
      ]
    },
    {
      "cell_type": "code",
      "metadata": {
        "id": "l0UDFuIv8zOY",
        "colab": {
          "base_uri": "https://localhost:8080/"
        },
        "outputId": "d997ddd5-fca6-415f-90aa-4f6ef7e38574"
      },
      "source": [
        "res1 = dsolve([de2],ics={h(0): 1})\n",
        "res1"
      ],
      "execution_count": 18,
      "outputs": [
        {
          "output_type": "execute_result",
          "data": {
            "text/plain": [
              "[Eq(h(t), 101.0 - 100.0*exp(-0.01*t))]"
            ]
          },
          "metadata": {
            "tags": []
          },
          "execution_count": 18
        }
      ]
    },
    {
      "cell_type": "code",
      "metadata": {
        "id": "OArqILhl83qS",
        "colab": {
          "base_uri": "https://localhost:8080/",
          "height": 38
        },
        "outputId": "d56f2fe0-34e5-42c2-f817-2450f2d173a8"
      },
      "source": [
        "a= res[0]\n",
        "a\n",
        "answ = a.subs(t,50)\n",
        "answ"
      ],
      "execution_count": 19,
      "outputs": [
        {
          "output_type": "execute_result",
          "data": {
            "text/latex": "$\\displaystyle V{\\left(50 \\right)} = 13779.9028275233$",
            "text/plain": [
              "Eq(V(50), 13779.9028275233)"
            ]
          },
          "metadata": {
            "tags": []
          },
          "execution_count": 19
        }
      ]
    },
    {
      "cell_type": "code",
      "metadata": {
        "id": "yUIC2OUH85s-",
        "colab": {
          "base_uri": "https://localhost:8080/"
        },
        "outputId": "df2161a4-d6e4-4479-cba4-921b7ab013a7"
      },
      "source": [
        "\n",
        "answ = solve(Eq(1.0*exp(-0.01*t), 0))\n",
        "answ"
      ],
      "execution_count": 20,
      "outputs": [
        {
          "output_type": "execute_result",
          "data": {
            "text/plain": [
              "[]"
            ]
          },
          "metadata": {
            "tags": []
          },
          "execution_count": 20
        }
      ]
    },
    {
      "cell_type": "code",
      "metadata": {
        "id": "ytN68LSH88P3",
        "colab": {
          "base_uri": "https://localhost:8080/",
          "height": 297
        },
        "outputId": "70ac50c2-9528-4170-e0c8-2e222ce41f78"
      },
      "source": [
        "p1 = plot(res[0].rhs, (t, 0, 1000), line_color='red', show=False)\n",
        "p1 = plot(res1[0].rhs, (t, 0, 1000), line_color='red', show=False)\n",
        "p1.show()"
      ],
      "execution_count": 21,
      "outputs": [
        {
          "output_type": "display_data",
          "data": {
            "image/png": "[encoded data removed]",
            "text/plain": [
              "<Figure size 432x288 with 1 Axes>"
            ]
          },
          "metadata": {
            "tags": [],
            "needs_background": "light"
          }
        }
      ]
    },
    {
      "cell_type": "code",
      "metadata": {
        "id": "uBM3QAX8EfSI"
      },
      "source": [
        ""
      ],
      "execution_count": 21,
      "outputs": []
    }
  ]
}
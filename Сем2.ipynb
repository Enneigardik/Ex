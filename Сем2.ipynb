{
  "nbformat": 4,
  "nbformat_minor": 0,
  "metadata": {
    "colab": {
      "name": "Untitled0.ipynb",
      "provenance": [],
      "collapsed_sections": [],
      "include_colab_link": true
    },
    "kernelspec": {
      "name": "python3",
      "display_name": "Python 3"
    }
  },
  "cells": [
    {
      "cell_type": "markdown",
      "metadata": {
        "id": "view-in-github",
        "colab_type": "text"
      },
      "source": [
        "<a href=\"https://colab.research.google.com/github/Enneigardik/Ex/blob/main/%D0%A1%D0%B5%D0%BC2.ipynb\" target=\"_parent\"><img src=\"https://colab.research.google.com/assets/colab-badge.svg\" alt=\"Open In Colab\"/></a>"
      ]
    },
    {
      "cell_type": "code",
      "metadata": {
        "id": "cHE0GBxc-an-"
      },
      "source": [
        "from itertools import zip_longest\r\n",
        "from IPython.display import display, Math, Latex\r\n",
        "import matplotlib\r\n",
        "import matplotlib.pyplot as plt\r\n",
        "\r\n",
        "class Polynomial:\r\n",
        "  def __init__(self, a):\r\n",
        "    self.a = [x for x in a]\r\n",
        "  def diff(self):\r\n",
        "    b = []\r\n",
        "    for k in range(1, len(self.a)):\r\n",
        "      b.append(k * self.a[k])\r\n",
        "    return Polynomial(b)\r\n",
        "  def __str__(self):\r\n",
        "    s = \"\"\r\n",
        "    for k in range(len(self.a)-1,1,-1):\r\n",
        "      s += str(self.a[k])+\"*x^\"+str(k) + \"+\"\r\n",
        "    s += str(self.a[1]) + \"*x+\" + str(self.a[0])\r\n",
        "    return s\r\n",
        "  def __add__(self, other):\r\n",
        "    num=[]\r\n",
        "    for i in range(max(len(self.a), len(other.a))):\r\n",
        "      num = [a + b for (a, b) in zip_longest(self.a, other.a, fillvalue=0)]\r\n",
        "    return Polynomial(num)\r\n",
        "  def __sub__(self, other):\r\n",
        "    num=[]\r\n",
        "    for i in range(max(len(self.a), len(other.a))):\r\n",
        "      num = [a - b for (a, b) in zip_longest(self.a, other.a, fillvalue=0)]\r\n",
        "    return Polynomial(num)\r\n",
        "  def evalf(self, x):\r\n",
        "    i = len(self.a) - 1\r\n",
        "    num=0\r\n",
        "    while i >= 0:\r\n",
        "      a = self.a[i]\r\n",
        "      num+=a*x**i\r\n",
        "      i-=1\r\n",
        "    return num\r\n",
        "  def show(self):\r\n",
        "    display(Math(self.toLatex()))\r\n",
        " #14\r\n",
        "  def toLatex(self):\r\n",
        "    i = len(self.a)-1\r\n",
        "    res = \"\"#str(self.a[i]) + \"x^\" + str(i)\r\n",
        "    while i >= 0:\r\n",
        "      a = self.a[i]\r\n",
        "      if a < 0:\r\n",
        "        res += \" - \"\r\n",
        "        if a != 1:\r\n",
        "          res += str(-a)\r\n",
        "      if a > 0:\r\n",
        "        res += \" + \"\r\n",
        "        if a != 1:\r\n",
        "          res+= str(a)\r\n",
        "      if a == 0:\r\n",
        "        i -= 1\r\n",
        "        continue\r\n",
        "      if i == 1 or a == 1:\r\n",
        "        res += \"x\"\r\n",
        "      if i > 1:\r\n",
        "        res += \"x^\" + str(i)\r\n",
        "      i -= 1\r\n",
        "    return res\r\n",
        "  #график честно стыбзен\r\n",
        "  def plot(self, left, right):\r\n",
        "        X, Y = [], []\r\n",
        "        for i in range(left, right+1):\r\n",
        "            X.append(i)\r\n",
        "            tmpY = 0\r\n",
        "            for j in range(0, len(self.a)):\r\n",
        "                tmpY += self.a[j]*(i ^ j)\r\n",
        "            Y.append(tmpY)\r\n",
        "\r\n",
        "        fig, ax = plt.subplots(figsize=(12, 9))\r\n",
        "        ax.plot(X, Y, color=\"red\", lw=5)\r\n",
        "        plt.show()"
      ],
      "execution_count": 12,
      "outputs": []
    },
    {
      "cell_type": "code",
      "metadata": {
        "colab": {
          "base_uri": "https://localhost:8080/",
          "height": 643
        },
        "id": "Hi0pVIgbFgSH",
        "outputId": "f5fd3941-0eff-49d1-fdf0-6f1c401d146d"
      },
      "source": [
        "P = Polynomial([1,3,2,4, 8, 9])\r\n",
        "Q = Polynomial([1,1,1])\r\n",
        "print(P,\" \", Q)\r\n",
        "print(P+Q)\r\n",
        "print(P-Q)\r\n",
        "print(P.evalf(2))\r\n",
        "print(P.show())\r\n",
        "\r\n",
        "P.plot(-4,4)"
      ],
      "execution_count": 15,
      "outputs": [
        {
          "output_type": "stream",
          "text": [
            "9*x^5+8*x^4+4*x^3+2*x^2+3*x+1   1*x^2+1*x+1\n",
            "9*x^5+8*x^4+4*x^3+3*x^2+4*x+2\n",
            "9*x^5+8*x^4+4*x^3+1*x^2+2*x+0\n",
            "463\n"
          ],
          "name": "stdout"
        },
        {
          "output_type": "display_data",
          "data": {
            "text/latex": "$$ + 9x^5 + 8x^4 + 4x^3 + 2x^2 + 3x + x$$",
            "text/plain": [
              "<IPython.core.display.Math object>"
            ]
          },
          "metadata": {
            "tags": []
          }
        },
        {
          "output_type": "stream",
          "text": [
            "None\n"
          ],
          "name": "stdout"
        },
        {
          "output_type": "display_data",
          "data": {
            "image/png": "[encoded data removed]",
            "text/plain": [
              "<Figure size 864x648 with 1 Axes>"
            ]
          },
          "metadata": {
            "tags": [],
            "needs_background": "light"
          }
        }
      ]
    }
  ]
}
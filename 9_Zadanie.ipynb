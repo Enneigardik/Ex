{
  "nbformat": 4,
  "nbformat_minor": 0,
  "metadata": {
    "colab": {
      "name": "Untitled10.ipynb",
      "provenance": [],
      "collapsed_sections": [],
      "authorship_tag": "ABX9TyMncOEItAyCzdAvTCt/d1Sn",
      "include_colab_link": true
    },
    "kernelspec": {
      "name": "python3",
      "display_name": "Python 3"
    },
    "language_info": {
      "name": "python"
    }
  },
  "cells": [
    {
      "cell_type": "markdown",
      "metadata": {
        "id": "view-in-github",
        "colab_type": "text"
      },
      "source": [
        "<a href=\"https://colab.research.google.com/github/Enneigardik/Ex/blob/main/9_Zadanie.ipynb\" target=\"_parent\"><img src=\"https://colab.research.google.com/assets/colab-badge.svg\" alt=\"Open In Colab\"/></a>"
      ]
    },
    {
      "cell_type": "code",
      "metadata": {
        "id": "aXp4gFIaOlOV"
      },
      "source": [
        "from sympy import *\n",
        "\n"
      ],
      "execution_count": 92,
      "outputs": []
    },
    {
      "cell_type": "code",
      "metadata": {
        "colab": {
          "base_uri": "https://localhost:8080/",
          "height": 37
        },
        "id": "W3oMgyLhP5JJ",
        "outputId": "bcbe764f-515b-4625-f46c-a1a836da9044"
      },
      "source": [
        "#7\n",
        "x = Symbol(\"x\")\n",
        "expr = ((2**(x+2))*(21**(x+3)))/((6**(x+1))*(7**(x+2)))\n",
        "simplify(expr)"
      ],
      "execution_count": 93,
      "outputs": [
        {
          "output_type": "execute_result",
          "data": {
            "text/latex": "$\\displaystyle 126$",
            "text/plain": [
              "126"
            ]
          },
          "metadata": {
            "tags": []
          },
          "execution_count": 93
        }
      ]
    },
    {
      "cell_type": "code",
      "metadata": {
        "colab": {
          "base_uri": "https://localhost:8080/",
          "height": 37
        },
        "id": "cwFt8mrURYVe",
        "outputId": "5198a157-5cf1-45e0-c9c2-55bb8943a7c7"
      },
      "source": [
        "#8\n",
        "expr = ((3**(x+3))*(16**(x+2)))/((12**(x+2))*(4**(x+1)))\n",
        "simplify(expr)"
      ],
      "execution_count": null,
      "outputs": [
        {
          "output_type": "execute_result",
          "data": {
            "text/latex": "$\\displaystyle 12$",
            "text/plain": [
              "12"
            ]
          },
          "metadata": {
            "tags": []
          },
          "execution_count": 17
        }
      ]
    },
    {
      "cell_type": "code",
      "metadata": {
        "colab": {
          "base_uri": "https://localhost:8080/",
          "height": 37
        },
        "id": "fdMqp4sORYet",
        "outputId": "4e4eebfe-dc7e-4c91-f95d-8b9820ad7009"
      },
      "source": [
        "#9\n",
        "expr = ((8)*(100**(x)))/((2**(2*x+1))*(5**(2*x-2)))\n",
        "simplify(expr)"
      ],
      "execution_count": null,
      "outputs": [
        {
          "output_type": "execute_result",
          "data": {
            "text/latex": "$\\displaystyle 100$",
            "text/plain": [
              "100"
            ]
          },
          "metadata": {
            "tags": []
          },
          "execution_count": 18
        }
      ]
    },
    {
      "cell_type": "code",
      "metadata": {
        "colab": {
          "base_uri": "https://localhost:8080/",
          "height": 37
        },
        "id": "VrS4sDreRYnN",
        "outputId": "4fabd654-b42a-49b9-a469-d3ccc6f65c00"
      },
      "source": [
        "#10\n",
        "expr = ((4)*(36**(x)))/((3**(2*x-3))*(2**(2*x+2)))\n",
        "simplify(expr)"
      ],
      "execution_count": null,
      "outputs": [
        {
          "output_type": "execute_result",
          "data": {
            "text/latex": "$\\displaystyle 27$",
            "text/plain": [
              "27"
            ]
          },
          "metadata": {
            "tags": []
          },
          "execution_count": 19
        }
      ]
    },
    {
      "cell_type": "code",
      "metadata": {
        "colab": {
          "base_uri": "https://localhost:8080/",
          "height": 37
        },
        "id": "7M20ZxiTRb_n",
        "outputId": "d0ad5f25-823b-4f23-b54e-c23a654569e5"
      },
      "source": [
        "#11\n",
        "a, b = symbols(\"a b\")\n",
        "sol = solve(Eq(( a - 6 * b + 5) / (6 * a -  b + 5), 7), a)[0]\n",
        "(41 * a -  b + 45).subs(a, sol)"
      ],
      "execution_count": null,
      "outputs": [
        {
          "output_type": "execute_result",
          "data": {
            "text/latex": "$\\displaystyle 15$",
            "text/plain": [
              "15"
            ]
          },
          "metadata": {
            "tags": []
          },
          "execution_count": 14
        }
      ]
    },
    {
      "cell_type": "code",
      "metadata": {
        "colab": {
          "base_uri": "https://localhost:8080/",
          "height": 37
        },
        "id": "ZRo2nYBCRcF-",
        "outputId": "bac014fc-0960-48d8-8b46-74210501e8be"
      },
      "source": [
        "#12\n",
        "sol = solve(Eq(( 3*a - 4 * b + 8) / (4 * a - 3* b + 8), 9), a)[0]\n",
        "(33 * a - 23* b + 71).subs(a, sol)"
      ],
      "execution_count": null,
      "outputs": [
        {
          "output_type": "execute_result",
          "data": {
            "text/latex": "$\\displaystyle 7$",
            "text/plain": [
              "7"
            ]
          },
          "metadata": {
            "tags": []
          },
          "execution_count": 15
        }
      ]
    },
    {
      "cell_type": "code",
      "metadata": {
        "colab": {
          "base_uri": "https://localhost:8080/"
        },
        "id": "aY5BIfX2V718",
        "outputId": "64400279-2eee-4923-db2f-607b55ba2340"
      },
      "source": [
        "#другой раздел\n",
        "#9\n",
        "sol = Eq(((x-2)*(x-2))*(x-3), 12 *(x-2))\n",
        "solve(sol)\n"
      ],
      "execution_count": null,
      "outputs": [
        {
          "output_type": "execute_result",
          "data": {
            "text/plain": [
              "[-1, 2, 6]"
            ]
          },
          "metadata": {
            "tags": []
          },
          "execution_count": 34
        }
      ]
    },
    {
      "cell_type": "code",
      "metadata": {
        "colab": {
          "base_uri": "https://localhost:8080/"
        },
        "id": "V-w44L5TZCE5",
        "outputId": "8ae6b20b-76db-4fd2-e58f-da62e228cd4d"
      },
      "source": [
        "#10\n",
        "sol = Eq(((x+1)*(x+1))*(x-4), -6 *(x+1))\n",
        "solve(sol)\n"
      ],
      "execution_count": null,
      "outputs": [
        {
          "output_type": "execute_result",
          "data": {
            "text/plain": [
              "[-1, 1, 2]"
            ]
          },
          "metadata": {
            "tags": []
          },
          "execution_count": 35
        }
      ]
    },
    {
      "cell_type": "code",
      "metadata": {
        "colab": {
          "base_uri": "https://localhost:8080/"
        },
        "id": "pgqtvDfbZY6Q",
        "outputId": "a984dfe7-7617-4dbc-d9d5-4147d1b817a5"
      },
      "source": [
        "#11\n",
        "sol = Eq(((x-1)*(x*x+4*x+4)), 4 *(x+2))\n",
        "solve(sol)"
      ],
      "execution_count": null,
      "outputs": [
        {
          "output_type": "execute_result",
          "data": {
            "text/plain": [
              "[-3, -2, 2]"
            ]
          },
          "metadata": {
            "tags": []
          },
          "execution_count": 36
        }
      ]
    },
    {
      "cell_type": "code",
      "metadata": {
        "colab": {
          "base_uri": "https://localhost:8080/"
        },
        "id": "9Z4c1FZOZvYx",
        "outputId": "4db37c23-6cc6-42d0-de0d-614252505d47"
      },
      "source": [
        "#12\n",
        "sol = Eq((x*(x*x+2*x+1)), 2 *(x+1))\n",
        "solve(sol)"
      ],
      "execution_count": null,
      "outputs": [
        {
          "output_type": "execute_result",
          "data": {
            "text/plain": [
              "[-2, -1, 1]"
            ]
          },
          "metadata": {
            "tags": []
          },
          "execution_count": 37
        }
      ]
    },
    {
      "cell_type": "code",
      "metadata": {
        "colab": {
          "base_uri": "https://localhost:8080/"
        },
        "id": "S4Al64xCZ4Xn",
        "outputId": "1b974605-f55b-4335-e016-0716c3a2d37f"
      },
      "source": [
        "#13\n",
        "sol = Eq((2*x-3)*(2*x-3)*(x-3), (2*x-3)*(x-3)*(x-3))\n",
        "solve(sol)"
      ],
      "execution_count": null,
      "outputs": [
        {
          "output_type": "execute_result",
          "data": {
            "text/plain": [
              "[0, 3/2, 3]"
            ]
          },
          "metadata": {
            "tags": []
          },
          "execution_count": 38
        }
      ]
    },
    {
      "cell_type": "code",
      "metadata": {
        "colab": {
          "base_uri": "https://localhost:8080/"
        },
        "id": "hP0A4w8Maq9A",
        "outputId": "aaffa5fd-8ca8-40a0-cd94-f09aa2d5dd39"
      },
      "source": [
        "#14\n",
        "sol = Eq((2*x-9)*(2*x-9)*(x-9), (2*x-9)*(x-9)*(x-9))\n",
        "solve(sol)"
      ],
      "execution_count": null,
      "outputs": [
        {
          "output_type": "execute_result",
          "data": {
            "text/plain": [
              "[0, 9/2, 9]"
            ]
          },
          "metadata": {
            "tags": []
          },
          "execution_count": 39
        }
      ]
    },
    {
      "cell_type": "code",
      "metadata": {
        "colab": {
          "base_uri": "https://localhost:8080/"
        },
        "id": "gIUvTez9ayZm",
        "outputId": "e8fbcb23-a6c4-45be-a087-098e69d1e085"
      },
      "source": [
        "#15\n",
        "sol = Eq(4*x*x+5*x, x*x*x)\n",
        "solve(sol)"
      ],
      "execution_count": null,
      "outputs": [
        {
          "output_type": "execute_result",
          "data": {
            "text/plain": [
              "[-1, 0, 5]"
            ]
          },
          "metadata": {
            "tags": []
          },
          "execution_count": 40
        }
      ]
    },
    {
      "cell_type": "code",
      "metadata": {
        "colab": {
          "base_uri": "https://localhost:8080/"
        },
        "id": "g8HZV4DdbDQm",
        "outputId": "e0108de1-3e8f-4137-f3b3-f085736480f1"
      },
      "source": [
        "#16\n",
        "sol = Eq(x*x*x-3*x*x, 4*x)\n",
        "solve(sol)"
      ],
      "execution_count": null,
      "outputs": [
        {
          "output_type": "execute_result",
          "data": {
            "text/plain": [
              "[-1, 0, 4]"
            ]
          },
          "metadata": {
            "tags": []
          },
          "execution_count": 41
        }
      ]
    },
    {
      "cell_type": "code",
      "metadata": {
        "id": "yuRdClhIbbP5",
        "colab": {
          "base_uri": "https://localhost:8080/",
          "height": 58
        },
        "outputId": "a54eb238-be9a-4969-feea-c934758e5544"
      },
      "source": [
        "#Системы уравнений\n",
        "y = Symbol(\"y\")\n",
        "\n",
        "#5\n",
        "nonlinsolve([Eq(4*x** 2 - y, 2), Eq(3*x - 2*y, -1)], [x, y])"
      ],
      "execution_count": 69,
      "outputs": [
        {
          "output_type": "execute_result",
          "data": {
            "text/latex": "$\\displaystyle \\left\\{\\left( - \\frac{5}{8}, \\  - \\frac{7}{16}\\right), \\left( 1, \\  2\\right)\\right\\}$",
            "text/plain": [
              "FiniteSet((-5/8, -7/16), (1, 2))"
            ]
          },
          "metadata": {
            "tags": []
          },
          "execution_count": 69
        }
      ]
    },
    {
      "cell_type": "code",
      "metadata": {
        "colab": {
          "base_uri": "https://localhost:8080/",
          "height": 68
        },
        "id": "lqFXv_RrcjMt",
        "outputId": "78ccde01-bcb6-485e-f951-f444af3c73fa"
      },
      "source": [
        "#6\n",
        "nonlinsolve([Eq(4*x - 3*y, -1), Eq(x**2 - y, 11)], [x, y])"
      ],
      "execution_count": null,
      "outputs": [
        {
          "output_type": "execute_result",
          "data": {
            "text/latex": "$\\displaystyle \\left\\{\\left( \\frac{2}{3} - \\frac{\\sqrt{106}}{3}, \\  \\frac{11}{9} - \\frac{4 \\sqrt{106}}{9}\\right), \\left( \\frac{2}{3} + \\frac{\\sqrt{106}}{3}, \\  \\frac{11}{9} + \\frac{4 \\sqrt{106}}{9}\\right)\\right\\}$",
            "text/plain": [
              "FiniteSet((2/3 - sqrt(106)/3, 11/9 - 4*sqrt(106)/9), (2/3 + sqrt(106)/3, 11/9 + 4*sqrt(106)/9))"
            ]
          },
          "metadata": {
            "tags": []
          },
          "execution_count": 46
        }
      ]
    },
    {
      "cell_type": "code",
      "metadata": {
        "colab": {
          "base_uri": "https://localhost:8080/",
          "height": 37
        },
        "id": "e8OcGfQecyMd",
        "outputId": "048236cf-7fcc-4250-d154-b6025a7bfb90"
      },
      "source": [
        "#7\n",
        "nonlinsolve([Eq(x - y, -5), Eq(x**2 - 2*x*y -y**2, 17)], [x, y])"
      ],
      "execution_count": null,
      "outputs": [
        {
          "output_type": "execute_result",
          "data": {
            "text/latex": "$\\displaystyle \\left\\{\\left( -7, \\  -2\\right), \\left( -3, \\  2\\right)\\right\\}$",
            "text/plain": [
              "FiniteSet((-7, -2), (-3, 2))"
            ]
          },
          "metadata": {
            "tags": []
          },
          "execution_count": 47
        }
      ]
    },
    {
      "cell_type": "code",
      "metadata": {
        "colab": {
          "base_uri": "https://localhost:8080/",
          "height": 37
        },
        "id": "rJEbmNz-dXok",
        "outputId": "6ede3679-36c4-428b-8d15-1d44249524a4"
      },
      "source": [
        "#8\n",
        "nonlinsolve([Eq(x + y, 2), Eq(2*x*x + x*y + y**2, 8)], [x, y])"
      ],
      "execution_count": null,
      "outputs": [
        {
          "output_type": "execute_result",
          "data": {
            "text/latex": "$\\displaystyle \\left\\{\\left( -1, \\  3\\right), \\left( 2, \\  0\\right)\\right\\}$",
            "text/plain": [
              "FiniteSet((-1, 3), (2, 0))"
            ]
          },
          "metadata": {
            "tags": []
          },
          "execution_count": 48
        }
      ]
    },
    {
      "cell_type": "code",
      "metadata": {
        "colab": {
          "base_uri": "https://localhost:8080/",
          "height": 58
        },
        "id": "P2xh9IzvdohE",
        "outputId": "ad643bf6-9150-4eb0-a80d-97942decf9f2"
      },
      "source": [
        "#Следующий раздел\n",
        "\n",
        "#3\n",
        "n = (sqrt(5)-2.5)*(3-2*x)<0\n",
        "sol = solveset(n, domain=S.Reals)\n",
        "display(sol)"
      ],
      "execution_count": 71,
      "outputs": [
        {
          "output_type": "display_data",
          "data": {
            "text/latex": "$\\displaystyle \\left(-\\infty, \\frac{3}{2}\\right)$",
            "text/plain": [
              "Interval.open(-oo, 3/2)"
            ]
          },
          "metadata": {
            "tags": []
          }
        }
      ]
    },
    {
      "cell_type": "code",
      "metadata": {
        "colab": {
          "base_uri": "https://localhost:8080/",
          "height": 58
        },
        "id": "fsaMw-GCef1U",
        "outputId": "029ee39c-1397-46b7-8e6b-00e39ea806b7"
      },
      "source": [
        "#4\n",
        "n = (-sqrt(6)+2.5)*(10-4*x)>0\n",
        "sol = solveset(n, domain=S.Reals)\n",
        "display(sol)"
      ],
      "execution_count": 70,
      "outputs": [
        {
          "output_type": "display_data",
          "data": {
            "text/latex": "$\\displaystyle \\left(-\\infty, \\frac{5}{2}\\right)$",
            "text/plain": [
              "Interval.open(-oo, 5/2)"
            ]
          },
          "metadata": {
            "tags": []
          }
        }
      ]
    },
    {
      "cell_type": "code",
      "metadata": {
        "colab": {
          "base_uri": "https://localhost:8080/",
          "height": 187
        },
        "id": "hybR1joJkK3s",
        "outputId": "89df678f-b4b4-4d6b-fd41-ab4167b25399"
      },
      "source": [
        "#Система неравенств\n",
        "#3\n",
        " \n",
        "n1 = Le((3/5) - ((2 - 4*x)/3) , (2 * x-3)/2)\n",
        "n2 = Ge((2*x-27)/2, 4*x)\n",
        "display(n1)\n",
        "sol1 = solveset(n1, domain=S.Reals)\n",
        "display(sol1)\n",
        "display(n2)\n",
        "sol2 = solveset(n2, domain=S.Reals)\n",
        "display(sol2)\n",
        "Intersection(sol1, sol2)\n"
      ],
      "execution_count": 94,
      "outputs": [
        {
          "output_type": "display_data",
          "data": {
            "text/latex": "$\\displaystyle \\frac{4 x}{3} - 0.0666666666666667 \\leq x - \\frac{3}{2}$",
            "text/plain": [
              "4*x/3 - 0.0666666666666667 <= x - 3/2"
            ]
          },
          "metadata": {
            "tags": []
          }
        },
        {
          "output_type": "display_data",
          "data": {
            "text/latex": "$\\displaystyle \\left(-\\infty, -4.3\\right]$",
            "text/plain": [
              "Interval(-oo, -4.30000000000000)"
            ]
          },
          "metadata": {
            "tags": []
          }
        },
        {
          "output_type": "display_data",
          "data": {
            "text/latex": "$\\displaystyle x - \\frac{27}{2} \\geq 4 x$",
            "text/plain": [
              "x - 27/2 >= 4*x"
            ]
          },
          "metadata": {
            "tags": []
          }
        },
        {
          "output_type": "display_data",
          "data": {
            "text/latex": "$\\displaystyle \\left(-\\infty, - \\frac{9}{2}\\right]$",
            "text/plain": [
              "Interval(-oo, -9/2)"
            ]
          },
          "metadata": {
            "tags": []
          }
        },
        {
          "output_type": "execute_result",
          "data": {
            "text/latex": "$\\displaystyle \\left(-\\infty, - \\frac{9}{2}\\right]$",
            "text/plain": [
              "Interval(-oo, -9/2)"
            ]
          },
          "metadata": {
            "tags": []
          },
          "execution_count": 94
        }
      ]
    },
    {
      "cell_type": "code",
      "metadata": {
        "colab": {
          "base_uri": "https://localhost:8080/",
          "height": 187
        },
        "id": "BiiMBGaTls8-",
        "outputId": "20f0c927-16a3-42d4-947e-6e937accc7ba"
      },
      "source": [
        "#4\n",
        "n1 = Le( (1+2*x)/4, ((5+4*x)/10)-(2/5))\n",
        "n2 = Ge((2*x), (14*x+17)/2)\n",
        "display(n1)\n",
        "sol1 = solveset(n1, domain=S.Reals)\n",
        "display(sol1)\n",
        "display(n2)\n",
        "sol2 = solveset(n2, domain=S.Reals)\n",
        "display(sol2)\n",
        "Intersection(sol1, sol2)\n"
      ],
      "execution_count": 95,
      "outputs": [
        {
          "output_type": "display_data",
          "data": {
            "text/latex": "$\\displaystyle \\frac{x}{2} + \\frac{1}{4} \\leq \\frac{2 x}{5} + 0.1$",
            "text/plain": [
              "x/2 + 1/4 <= 2*x/5 + 0.1"
            ]
          },
          "metadata": {
            "tags": []
          }
        },
        {
          "output_type": "display_data",
          "data": {
            "text/latex": "$\\displaystyle \\left(-\\infty, -1.5\\right]$",
            "text/plain": [
              "Interval(-oo, -1.50000000000000)"
            ]
          },
          "metadata": {
            "tags": []
          }
        },
        {
          "output_type": "display_data",
          "data": {
            "text/latex": "$\\displaystyle 2 x \\geq 7 x + \\frac{17}{2}$",
            "text/plain": [
              "2*x >= 7*x + 17/2"
            ]
          },
          "metadata": {
            "tags": []
          }
        },
        {
          "output_type": "display_data",
          "data": {
            "text/latex": "$\\displaystyle \\left(-\\infty, - \\frac{17}{10}\\right]$",
            "text/plain": [
              "Interval(-oo, -17/10)"
            ]
          },
          "metadata": {
            "tags": []
          }
        },
        {
          "output_type": "execute_result",
          "data": {
            "text/latex": "$\\displaystyle \\left(-\\infty, - \\frac{17}{10}\\right]$",
            "text/plain": [
              "Interval(-oo, -17/10)"
            ]
          },
          "metadata": {
            "tags": []
          },
          "execution_count": 95
        }
      ]
    },
    {
      "cell_type": "code",
      "metadata": {
        "id": "de9Blghxl19R"
      },
      "source": [
        ""
      ],
      "execution_count": null,
      "outputs": []
    }
  ]
}
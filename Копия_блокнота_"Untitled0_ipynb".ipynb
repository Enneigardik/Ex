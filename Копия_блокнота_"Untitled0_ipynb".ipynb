{
  "nbformat": 4,
  "nbformat_minor": 0,
  "metadata": {
    "colab": {
      "name": "Копия блокнота \"Untitled0.ipynb\"",
      "provenance": [],
      "collapsed_sections": [],
      "authorship_tag": "ABX9TyPuQAShvHc9YSK3BKKeDu46",
      "include_colab_link": true
    },
    "kernelspec": {
      "name": "python3",
      "display_name": "Python 3"
    }
  },
  "cells": [
    {
      "cell_type": "markdown",
      "metadata": {
        "id": "view-in-github",
        "colab_type": "text"
      },
      "source": [
        "<a href=\"https://colab.research.google.com/github/Enneigardik/Ex/blob/main/%D0%9A%D0%BE%D0%BF%D0%B8%D1%8F_%D0%B1%D0%BB%D0%BE%D0%BA%D0%BD%D0%BE%D1%82%D0%B0_%22Untitled0_ipynb%22.ipynb\" target=\"_parent\"><img src=\"https://colab.research.google.com/assets/colab-badge.svg\" alt=\"Open In Colab\"/></a>"
      ]
    },
    {
      "cell_type": "code",
      "metadata": {
        "id": "pTnn2aAU9Oe2"
      },
      "source": [
        "from IPython.display import display, Math, Latex\r\n",
        "def check(x):\r\n",
        "    if isinstance(x, int):\r\n",
        "      return x, 1\r\n",
        "    return x.z, x.n\r\n",
        "\r\n",
        "class Rational:\r\n",
        "  def __init__ (self, z, n=1):\r\n",
        "    self.z = z\r\n",
        "    self.n = n\r\n",
        "    self.normalize()\r\n",
        "    \r\n",
        "#3\r\n",
        "  def __str__(self): \r\n",
        "    return str(self.z)+\"/\"+str(self.n)\r\n",
        "#4\r\n",
        "  def normalize(self):\r\n",
        "    z, n = abs(self.z), self.n\r\n",
        "    while z%n!=0:\r\n",
        "      z, n, = n,z%n\r\n",
        "    self.z//= n\r\n",
        "    self.n//= n\r\n",
        "#5\r\n",
        "  def __add__(self, x):\r\n",
        "    c, d = check(x)\r\n",
        "    return Rational(self.z * d + self.n * c, self.n * d)\r\n",
        "  def __sub__(self, x):\r\n",
        "    c, d = check(x)\r\n",
        "    return Rational(self.z * d - self.n * c, self.n * d)\r\n",
        "  def __truediv__(self, x):\r\n",
        "    c, d = check(x)\r\n",
        "    return Rational(self.z * d, self.n * c)\r\n",
        "  def __mul__(self, x):\r\n",
        "    c, d = check(x)\r\n",
        "    return Rational(self.z * c, self.n * d)\r\n",
        "  #11\r\n",
        "  def __eq__(self, x):\r\n",
        "    c, d = check(x)\r\n",
        "    return self.z * d == self.n * c\r\n",
        "  def __lt__(self, x):\r\n",
        "    c, d = check(x)\r\n",
        "    if (self.z * d < c*self.n and self.n * d == d*self.n):\r\n",
        "      return True\r\n",
        "    else:\r\n",
        "      return False\r\n",
        "  def __le__(self, x):\r\n",
        "    c, d = check(x)\r\n",
        "    if (self.z * d <= c*self.n and self.n * d == d*self.n):\r\n",
        "      return True\r\n",
        "    else:\r\n",
        "      return False\r\n",
        "  def __gt__(self, x):\r\n",
        "    c, d = check(x)\r\n",
        "    if (self.z * d > c*self.n and self.n * d == d*self.n):\r\n",
        "      return True\r\n",
        "    else:\r\n",
        "      return False\r\n",
        "  def __ge__(self, x):\r\n",
        "    c, d = check(x)\r\n",
        "    if (self.z * d >= c*self.n and self.n * d == d*self.n):\r\n",
        "      return True\r\n",
        "    else:\r\n",
        "      return False\r\n",
        "  def __eq__(self, x):\r\n",
        "    c, d = check(x)\r\n",
        "    if (self.z * d == c*self.n and self.n * d == d*self.n):\r\n",
        "      return True\r\n",
        "    else:\r\n",
        "      return False\r\n",
        "  def __ne__(self, x):\r\n",
        "    c, d = check(x)\r\n",
        "    if (self.z * d != c*self.n or self.n * d != d*self.n):\r\n",
        "      return True\r\n",
        "    else:\r\n",
        "      return False\r\n",
        "  #12\r\n",
        "  def evalf(self,n=5):\r\n",
        "    z = abs(self.z)\r\n",
        "    sl = \"\"\r\n",
        "    sl += str(z//self.n)\r\n",
        "    z %= self.n\r\n",
        "    z *=10\r\n",
        "    sl+='.'\r\n",
        "    while z != 0 and len(sl)<=n+1:\r\n",
        "      sl += str(z//self.n)\r\n",
        "      z %= self.n\r\n",
        "      z *=10\r\n",
        "    if z!=0:\r\n",
        "      return sl[:-2] + str(round(int(sl[-2:]),-1))[0]\r\n",
        "    return sl\r\n",
        " #13 \r\n",
        "  def getMixedFrom(self):\r\n",
        "    return (int(self.z/self.n),Rational(abs(self.z)%self.n,self.n))\r\n",
        " #15\r\n",
        "  def show(self,mixed = False):\r\n",
        "    display(Math(self.toLatex(mixed)))\r\n",
        " #14\r\n",
        "  def toLatex(self,mixed = False):\r\n",
        "    if mixed:\r\n",
        "      i,vr = self.getMixedFrom()\r\n",
        "      return \"$\"+str(i)+'\\dfrac{' +str(vr.z)+'}{'+str(vr.n)+'}'+\"$\"     \r\n",
        "    return \"$\"+\"\\dfrac{\"+str(self.z)+'}{'+str(self.n)+'}'+\"$\"\r\n"
      ],
      "execution_count": 31,
      "outputs": []
    },
    {
      "cell_type": "code",
      "metadata": {
        "colab": {
          "base_uri": "https://localhost:8080/",
          "height": 205
        },
        "id": "4QRthtUYH2Cg",
        "outputId": "ff5e3c10-5058-4c11-845f-db1b8770b191"
      },
      "source": [
        "print(\"3/4 > 2/3 = \",Rational(5,7)>Rational(2,3))\r\n",
        "print(\"3/4 < 2/3 = \",Rational(2,4)<Rational(2,3))\r\n",
        "print(\"3/4 >= 2/3 = \",Rational(3,4)>=Rational(3,4))\r\n",
        "print(\"3/4 == 2/3 = \",Rational(3,4)==Rational(2,3))\r\n",
        "print(\"3/1 == 4 = \",Rational(3,1)!=3)\r\n",
        "r = Rational(1,3);\r\n",
        "print(r.evalf(4))\r\n",
        "r = Rational(2,3);\r\n",
        "print(r.evalf())\r\n",
        "\r\n",
        "r = Rational(5,-3)\r\n",
        "r.show()\r\n",
        "r = Rational(81, 5)/Rational(5,-3)\r\n",
        "r.show(mixed=True)"
      ],
      "execution_count": 32,
      "outputs": [
        {
          "output_type": "stream",
          "text": [
            "3/4 > 2/3 =  True\n",
            "3/4 < 2/3 =  True\n",
            "3/4 >= 2/3 =  True\n",
            "3/4 == 2/3 =  False\n",
            "3/1 == 4 =  False\n",
            "0.333\n",
            "0.6667\n"
          ],
          "name": "stdout"
        },
        {
          "output_type": "display_data",
          "data": {
            "text/latex": "$$\\dfrac{-5}{3}$$",
            "text/plain": [
              "<IPython.core.display.Math object>"
            ]
          },
          "metadata": {
            "tags": []
          }
        },
        {
          "output_type": "display_data",
          "data": {
            "text/latex": "$$-9\\dfrac{18}{25}$$",
            "text/plain": [
              "<IPython.core.display.Math object>"
            ]
          },
          "metadata": {
            "tags": []
          }
        }
      ]
    }
  ]
}
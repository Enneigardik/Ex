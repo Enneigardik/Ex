{
  "nbformat": 4,
  "nbformat_minor": 0,
  "metadata": {
    "colab": {
      "name": "Копия блокнота \"Copy of Untitled4.ipynb\"",
      "provenance": [],
      "include_colab_link": true
    },
    "kernelspec": {
      "name": "python3",
      "display_name": "Python 3"
    },
    "language_info": {
      "name": "python"
    }
  },
  "cells": [
    {
      "cell_type": "markdown",
      "metadata": {
        "id": "view-in-github",
        "colab_type": "text"
      },
      "source": [
        "<a href=\"https://colab.research.google.com/github/Enneigardik/Ex/blob/main/%D0%94%D0%B8%D1%84%D1%83%D1%80%D1%8B.ipynb\" target=\"_parent\"><img src=\"https://colab.research.google.com/assets/colab-badge.svg\" alt=\"Open In Colab\"/></a>"
      ]
    },
    {
      "cell_type": "code",
      "metadata": {
        "id": "guGLMbOX1Tu2"
      },
      "source": [
        "from sympy import *\n",
        "from sympy.plotting import *\n",
        "from IPython.display import display\n",
        "from sympy.utilities.lambdify import lambdify"
      ],
      "execution_count": null,
      "outputs": []
    },
    {
      "cell_type": "code",
      "metadata": {
        "id": "8pS_j9Oq899L"
      },
      "source": [
        "#Вариант 12 \n"
      ],
      "execution_count": null,
      "outputs": []
    },
    {
      "cell_type": "code",
      "metadata": {
        "id": "7JDJx5BH1WXi"
      },
      "source": [
        "t = symbols(\"t\")\n",
        "x = Function(\"x\")\n",
        "y = Function(\"y\")\n",
        "z = Function(\"z\")"
      ],
      "execution_count": null,
      "outputs": []
    },
    {
      "cell_type": "code",
      "metadata": {
        "colab": {
          "base_uri": "https://localhost:8080/",
          "height": 52
        },
        "id": "sM1dxHPg1a_7",
        "outputId": "62410bc3-abcf-4aec-ebbc-f39dda87db5f"
      },
      "source": [
        "de1=Eq(diff(x(t), t), -0.5*x(t))\n",
        "de1"
      ],
      "execution_count": null,
      "outputs": [
        {
          "output_type": "execute_result",
          "data": {
            "text/latex": "$\\displaystyle \\frac{d}{d t} x{\\left(t \\right)} = - 0.5 x{\\left(t \\right)}$",
            "text/plain": [
              "Eq(Derivative(x(t), t), -0.5*x(t))"
            ]
          },
          "metadata": {
            "tags": []
          },
          "execution_count": 60
        }
      ]
    },
    {
      "cell_type": "code",
      "metadata": {
        "colab": {
          "base_uri": "https://localhost:8080/",
          "height": 52
        },
        "id": "8A72N--u1jWk",
        "outputId": "addebd2c-f68f-4819-df16-474ec9ec3d9b"
      },
      "source": [
        "\n",
        "de2=Eq(diff(y(t), t), -0.25*y(t)+0.5*x(t))\n",
        "de2"
      ],
      "execution_count": null,
      "outputs": [
        {
          "output_type": "execute_result",
          "data": {
            "text/latex": "$\\displaystyle \\frac{d}{d t} y{\\left(t \\right)} = 0.5 x{\\left(t \\right)} - 0.25 y{\\left(t \\right)}$",
            "text/plain": [
              "Eq(Derivative(y(t), t), 0.5*x(t) - 0.25*y(t))"
            ]
          },
          "metadata": {
            "tags": []
          },
          "execution_count": 71
        }
      ]
    },
    {
      "cell_type": "code",
      "metadata": {
        "id": "SNrM4vOq2jQ9",
        "colab": {
          "base_uri": "https://localhost:8080/",
          "height": 52
        },
        "outputId": "dfa590ce-5bc2-46b7-849c-dc567e175429"
      },
      "source": [
        "de3=Eq(diff(z(t), t), 0.25*y(t))\n",
        "de3"
      ],
      "execution_count": null,
      "outputs": [
        {
          "output_type": "execute_result",
          "data": {
            "text/latex": "$\\displaystyle \\frac{d}{d t} z{\\left(t \\right)} = 0.25 y{\\left(t \\right)}$",
            "text/plain": [
              "Eq(Derivative(z(t), t), 0.25*y(t))"
            ]
          },
          "metadata": {
            "tags": []
          },
          "execution_count": 62
        }
      ]
    },
    {
      "cell_type": "code",
      "metadata": {
        "colab": {
          "base_uri": "https://localhost:8080/"
        },
        "id": "lGXkenYk1j-e",
        "outputId": "c908f834-4869-4e54-f083-420d8211ae93"
      },
      "source": [
        "res = dsolve([de1, de2, de3], ics={x(0): 2, y(0): 1, z(0): 0})\n",
        "res"
      ],
      "execution_count": null,
      "outputs": [
        {
          "output_type": "execute_result",
          "data": {
            "text/plain": [
              "[Eq(x(t), 2.0*exp(-0.5*t)),\n",
              " Eq(y(t), -4.0*exp(-0.5*t) + 5.0*exp(-0.25*t)),\n",
              " Eq(z(t), 3.0 + 2.0*exp(-0.5*t) - 5.0*exp(-0.25*t))]"
            ]
          },
          "metadata": {
            "tags": []
          },
          "execution_count": 79
        }
      ]
    },
    {
      "cell_type": "code",
      "metadata": {
        "colab": {
          "base_uri": "https://localhost:8080/",
          "height": 313
        },
        "id": "oBb405tl1lI6",
        "outputId": "7cb1e8ed-f647-4bfb-b61b-158dcb6573e6"
      },
      "source": [
        "p1 = plot(res[0].rhs, (t, 0, 30), line_color='red', show=False)\n",
        "p2 = plot(res[1].rhs, (t, 0, 30), show=False)\n",
        "p3 = plot(res[2].rhs, (t, 0, 30), line_color='green', show=False)\n",
        "p1.append(p2[0])\n",
        "p1.append(p3[0])\n",
        "p1.show()\n",
        "\n",
        "\n",
        "solve(Eq(3.0 + 2.0*exp(-0.5*t) - 5.0*exp(-0.25*t), 1.7))\n",
        "\n"
      ],
      "execution_count": null,
      "outputs": [
        {
          "output_type": "display_data",
          "data": {
            "image/png": "[encoded data removed]",
            "text/plain": [
              "<Figure size 432x288 with 1 Axes>"
            ]
          },
          "metadata": {
            "tags": [],
            "needs_background": "light"
          }
        },
        {
          "output_type": "execute_result",
          "data": {
            "text/plain": [
              "[-3.16336109175401, 4.88649275612382]"
            ]
          },
          "metadata": {
            "tags": []
          },
          "execution_count": 89
        }
      ]
    },
    {
      "cell_type": "code",
      "metadata": {
        "id": "7szaCsjA1mvp"
      },
      "source": [
        ""
      ],
      "execution_count": null,
      "outputs": []
    }
  ]
}